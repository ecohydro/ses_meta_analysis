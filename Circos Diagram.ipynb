{
 "cells": [
  {
   "cell_type": "markdown",
   "metadata": {},
   "source": [
    "## Make the matricies from the raw data."
   ]
  },
  {
   "cell_type": "code",
   "execution_count": 38,
   "metadata": {},
   "outputs": [],
   "source": [
    "import pandas as pd\n",
    "import numpy as np\n",
    "from functions import create_matrix"
   ]
  },
  {
   "cell_type": "code",
   "execution_count": 39,
   "metadata": {},
   "outputs": [],
   "source": [
    "Circos_DATA = pd.read_csv('Circos_DATA.csv')"
   ]
  },
  {
   "cell_type": "markdown",
   "metadata": {},
   "source": [
    "### df structure\n",
    "\n",
    "```\n",
    "Data columns (total 13 columns):\n",
    " #   Column                     Non-Null Count  Dtype \n",
    "---  ------                     --------------  ----- \n",
    " 0   Response ID                1434 non-null   object\n",
    " 1   Code                       1434 non-null   int64 \n",
    " 2   Weather/Climate            1434 non-null   int64 \n",
    " 3   Hydrology                  1434 non-null   int64 \n",
    " 4   Ecology                    1434 non-null   int64 \n",
    " 5   Geomorphology              1434 non-null   int64 \n",
    " 6   Demographic                1434 non-null   int64 \n",
    " 7   Socioeconomic              1434 non-null   int64 \n",
    " 8   Social Capital & Identity  1434 non-null   int64 \n",
    " 9   Human Built Capital        1434 non-null   int64 \n",
    " 10  Institutional              1434 non-null   int64 \n",
    " 11  Livelihood activities      1434 non-null   int64 \n",
    " 12  Commodity Prices           1434 non-null   int64 \n",
    " ```"
   ]
  },
  {
   "cell_type": "code",
   "execution_count": 40,
   "metadata": {},
   "outputs": [],
   "source": [
    "\n",
    "df = create_matrix(Circos_DATA, code=code)\n",
    "#print(df)"
   ]
  },
  {
   "cell_type": "markdown",
   "metadata": {},
   "source": [
    "### Make the Plot (attempt using Plotly)"
   ]
  },
  {
   "cell_type": "code",
   "execution_count": 41,
   "metadata": {},
   "outputs": [],
   "source": [
    "import chart_studio.plotly as py\n",
    "import plotly.figure_factory as ff\n",
    "import plotly.graph_objs as go\n",
    "from functions import check_data, get_ideogram_ends, map_data, make_ribbon_ends\n",
    "PI = np.pi"
   ]
  },
  {
   "cell_type": "code",
   "execution_count": 42,
   "metadata": {},
   "outputs": [],
   "source": [
    "# Determine the size of every arc in the ideogram, based on total number of manuscripts.\n",
    "matrix = np.array(df, dtype=int)\n",
    "L = check_data(matrix)\n",
    "\n",
    "row_sum = [np.sum(matrix[k,:]) for k in range(L)]\n",
    "\n",
    "#set the gap between two consecutive ideograms\n",
    "gap=2*PI*0.005\n",
    "ideogram_length=2*PI*np.asarray(row_sum)/sum(row_sum)-gap*np.ones(L)\n",
    "\n",
    "# Get the end angular coordinates for each ideogram arc\n",
    "ideo_ends = get_ideogram_ends(ideogram_length, gap)"
   ]
  },
  {
   "cell_type": "code",
   "execution_count": 43,
   "metadata": {},
   "outputs": [],
   "source": [
    "# Labels and colors will be consistent across all figures\n",
    "labels = list(df.columns)\n",
    "ideo_colors=['rgba(165, 0, 38, 0.75)',\n",
    "             'rgba(215, 48, 39, 0.75)',\n",
    "             'rgba(244, 109, 67, 0.75)',\n",
    "             'rgba(253, 174, 97, 0.75)',\n",
    "             'rgba(254, 224, 144, 0.75)',\n",
    "             'rgba(224, 243, 248, 0.75)',\n",
    "             'rgba(171, 217, 233, 0.75)',\n",
    "             'rgba(116, 173, 209, 0.75)',\n",
    "             'rgba(69, 117, 180, 0.75)',\n",
    "             'rgba(49, 54, 149, 0.75)'\n",
    "              ]\n",
    "# TODO: Use colorbrewer to get 10 nice colors."
   ]
  },
  {
   "cell_type": "code",
   "execution_count": 44,
   "metadata": {},
   "outputs": [],
   "source": [
    "mapped_data = map_data(matrix, row_sum, ideogram_length)\n",
    "idx_sort=np.argsort(mapped_data, axis=1)\n",
    "ribbon_ends=make_ribbon_ends(mapped_data, ideo_ends,  idx_sort)\n",
    "ribbon_color=[L*[ideo_colors[k]] for k in range(L)]"
   ]
  },
  {
   "cell_type": "markdown",
   "metadata": {},
   "source": [
    "### Create a Layout for the figure"
   ]
  },
  {
   "cell_type": "code",
   "execution_count": 45,
   "metadata": {},
   "outputs": [],
   "source": [
    "from functions import make_layout, make_ribbon, make_self_rel, invPerm\n",
    "code=0\n",
    "\n",
    "type={}\n",
    "type[0] = 'All manuscripts'\n",
    "type[1] = 'Manuscripts investigating social impacts on environmental systems'\n",
    "type[2] = 'Manuscripts investigating environmental impacts on social systems'\n",
    "type[3] = 'Manuscripts investigating coupled systems dynamics'\n",
    "\n",
    "layout=make_layout(type[code], 800)\n"
   ]
  },
  {
   "cell_type": "code",
   "execution_count": 46,
   "metadata": {},
   "outputs": [],
   "source": [
    "# these values are set after a few trials \n",
    "radii_sribb=[0.30, 0.30, 0.30, 0.30, 0.30, 0.30, 0.30, 0.30, 0.30, 0.30]"
   ]
  },
  {
   "cell_type": "code",
   "execution_count": 47,
   "metadata": {},
   "outputs": [],
   "source": [
    "ribbon_info=[]\n",
    "for k in range(L):\n",
    "\n",
    "    sigma=idx_sort[k]\n",
    "    sigma_inv=invPerm(sigma)\n",
    "    for j in range(k, L):\n",
    "        if matrix[k][j]==0 and matrix[j][k]==0: continue\n",
    "        eta=idx_sort[j]\n",
    "        eta_inv=invPerm(eta)\n",
    "        l=ribbon_ends[k][sigma_inv[j]]\n",
    "\n",
    "        if j==k:\n",
    "            # CHANGE THIS APPEND TO A SIMPLE ADDITION....\n",
    "            #layout['shapes'].append(make_self_rel(l, 'rgb(175,175,175)' ,\n",
    "            #                        ideo_colors[k], radius=radii_sribb[k]))\n",
    "            layout['shapes'] = layout['shapes'] + (make_self_rel(l, 'rgb(175,175,175)' ,\n",
    "                                    ideo_colors[k], radius=radii_sribb[k]),)\n",
    "            z=0.9*np.exp(1j*(l[0]+l[1])/2)\n",
    "            #the text below will be displayed when hovering the mouse over the ribbon\n",
    "            text='There were {:d}'.format(matrix[k][k])+' instances of manuscripts with {k} and {k}'.format(k=labels[k])\n",
    "            ribbon_info.append(go.Scatter(x=[z.real],\n",
    "                                       y=[z.imag],\n",
    "                                       mode='markers',\n",
    "                                       marker=dict(size=0.5, color=ideo_colors[k]),\n",
    "                                       text=text,\n",
    "                                       hoverinfo='text'\n",
    "                                       )\n",
    "                              )\n",
    "        else:\n",
    "            r=ribbon_ends[j][eta_inv[k]]\n",
    "            zi=0.9*np.exp(1j*(l[0]+l[1])/2)\n",
    "            zf=0.9*np.exp(1j*(r[0]+r[1])/2)\n",
    "            #texti and textf are the strings that will be displayed when hovering the mouse \n",
    "            #over the two ribbon ends\n",
    "            texti='There were {:d}'.format(matrix[k][j])+' instances of \\n manuscripts with data on {k} \\n and {j}'.format(\n",
    "                k=labels[k], j=labels[j])\n",
    "            textf='There were {:d}'.format(matrix[k][j])+' instances of \\n manuscripts with data on {k} \\n and {j}'.format(\n",
    "                k=labels[k], j=labels[j])\n",
    "            ribbon_info.append(go.Scatter(x=[zi.real],\n",
    "                                       y=[zi.imag],\n",
    "                                       mode='markers',\n",
    "                                       marker=dict(size=0.5, color=ribbon_color[k][j]),\n",
    "                                       text=texti,\n",
    "                                       hoverinfo='text'\n",
    "                                       )\n",
    "                              ),\n",
    "            ribbon_info.append(go.Scatter(x=[zf.real],\n",
    "                                       y=[zf.imag],\n",
    "                                       mode='markers',\n",
    "                                       marker=dict(size=0.5, color=ribbon_color[k][j]),\n",
    "                                       text=textf,\n",
    "                                       hoverinfo='text'\n",
    "                                       )\n",
    "                              )\n",
    "            r=(r[1], r[0])#IMPORTANT!!!  Reverse these arc ends because otherwise you get\n",
    "                          # a twisted ribbon\n",
    "            #append the ribbon shape\n",
    "            layout['shapes'] = layout['shapes'] + (make_ribbon(l, r, 'rgb(175,175,175)' , ribbon_color[k][j]),)\n",
    "\n"
   ]
  },
  {
   "cell_type": "code",
   "execution_count": 48,
   "metadata": {},
   "outputs": [
    {
     "data": {
      "text/html": [
       "\n",
       "        <iframe\n",
       "            width=\"800px\"\n",
       "            height=\"800px\"\n",
       "            src=\"https://plot.ly/~kcaylor/247.embed\"\n",
       "            frameborder=\"0\"\n",
       "            allowfullscreen\n",
       "        ></iframe>\n",
       "        "
      ],
      "text/plain": [
       "<IPython.lib.display.IFrame at 0x11b1c2f60>"
      ]
     },
     "execution_count": 48,
     "metadata": {},
     "output_type": "execute_result"
    }
   ],
   "source": [
    "from functions import make_ideogram_arc, make_ideo_shape\n",
    "ideograms=[]\n",
    "ideo_labels=[]\n",
    "for k in range(len(ideo_ends)):\n",
    "    z= make_ideogram_arc(1.1, ideo_ends[k])\n",
    "    zi=make_ideogram_arc(1.0, ideo_ends[k])\n",
    "    z_avg = make_ideogram_arc(1.3, [np.mean(ideo_ends[k]), np.mean(ideo_ends[k])])\n",
    "    ideo_labels.append(dict(\n",
    "            x=z_avg.real[0],\n",
    "            y=z_avg.imag[0],\n",
    "            xref=\"x\",\n",
    "            yref=\"y\",\n",
    "            text=labels[k],\n",
    "            showarrow=False,\n",
    "            font=dict(\n",
    "                family=\"arial\",\n",
    "                size=18\n",
    "            )\n",
    "        ))\n",
    "    m=len(z)\n",
    "    n=len(zi)\n",
    "    ideograms.append(go.Scatter(x=z.real,\n",
    "                             y=z.imag,\n",
    "                             mode='lines',\n",
    "                             name=labels[k],\n",
    "                             line=dict(color=ideo_colors[k], shape='spline', width=0.25),\n",
    "                             text=labels[k]+'<br>'+'{:d}'.format(row_sum[k]),\n",
    "                             hoverinfo='text',\n",
    "                             )\n",
    "                     )\n",
    "\n",
    "\n",
    "    path='M '\n",
    "    for s in range(m):\n",
    "        path+=str(z.real[s])+', '+str(z.imag[s])+' L '\n",
    "\n",
    "    Zi=np.array(zi.tolist()[::-1])\n",
    "\n",
    "    for s in range(m):\n",
    "        path+=str(Zi.real[s])+', '+str(Zi.imag[s])+' L '\n",
    "    path+=str(z.real[0])+' ,'+str(z.imag[0])\n",
    "\n",
    "    layout['shapes'] = layout['shapes'] + (make_ideo_shape(path,'rgb(150,150,150)' , ideo_colors[k]),)\n",
    "\n",
    "data = go.Data(ideograms+ribbon_info)\n",
    "fig = go.Figure(data=data, layout=layout)\n",
    "\n",
    "fig.update_layout(\n",
    "    template=\"plotly_white\",\n",
    "    annotations=ideo_labels,\n",
    "    width=800,\n",
    "    height=800\n",
    ")\n",
    "\n",
    "#import plotly.offline as off\n",
    "#off.init_notebook_mode()\n",
    "\n",
    "py.iplot(fig, filename='chord-diagram-ses')\n"
   ]
  },
  {
   "cell_type": "code",
   "execution_count": 49,
   "metadata": {},
   "outputs": [],
   "source": [
    "#from plotly.offline import init_notebook_mode\n",
    "#import plotly.graph_objs as go\n",
    "\n",
    "#init_notebook_mode(connected=True)\n",
    "\n",
    "#data = go.Data(ribbon_info+ideograms)\n",
    "#fig = go.Figure(data=data, layout=layout)\n",
    "\n",
    "#py.plot(fig, filename='chord-diagram-ses', auto_open=True)"
   ]
  }
 ],
 "metadata": {
  "kernelspec": {
   "display_name": "Python 3",
   "language": "python",
   "name": "python3"
  },
  "language_info": {
   "codemirror_mode": {
    "name": "ipython",
    "version": 3
   },
   "file_extension": ".py",
   "mimetype": "text/x-python",
   "name": "python",
   "nbconvert_exporter": "python",
   "pygments_lexer": "ipython3",
   "version": "3.6.7"
  }
 },
 "nbformat": 4,
 "nbformat_minor": 4
}
