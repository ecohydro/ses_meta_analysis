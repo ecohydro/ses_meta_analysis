{
 "cells": [
  {
   "cell_type": "markdown",
   "metadata": {},
   "source": [
    "## Make the matricies from the raw data."
   ]
  },
  {
   "cell_type": "code",
   "execution_count": 1,
   "metadata": {},
   "outputs": [],
   "source": [
    "import pandas as pd\n",
    "import numpy as np\n",
    "from functions import create_matrix"
   ]
  },
  {
   "cell_type": "code",
   "execution_count": 2,
   "metadata": {},
   "outputs": [],
   "source": [
    "Circos_DATA = pd.read_csv('Circos_DATA.csv')"
   ]
  },
  {
   "cell_type": "code",
   "execution_count": 3,
   "metadata": {},
   "outputs": [],
   "source": [
    "df = Circos_DATA\n",
    "environmental = Circos_DATA.columns[2:7]\n",
    "social = Circos_DATA.columns[7:14]\n",
    "group1 = list(df[environmental].sum().sort_values(ascending=False).index)\n",
    "group2 = list(df[social].sum().sort_values(ascending=False).index)\n",
    "df = df[group1 + group2]"
   ]
  },
  {
   "cell_type": "markdown",
   "metadata": {},
   "source": [
    "### df structure\n",
    "\n",
    "```\n",
    "Data columns (total 14 columns):\n",
    " #   Column                     Non-Null Count  Dtype \n",
    "---  ------                     --------------  ----- \n",
    " 0   Response ID                1434 non-null   object\n",
    " 1   Code                       1434 non-null   int64 \n",
    " 2   Weather/Climate            1434 non-null   int64 \n",
    " 3   Hydrology                  1434 non-null   int64 \n",
    " 4   Ecology                    1434 non-null   int64 \n",
    " 5   Geomorphology              1434 non-null   int64 \n",
    " 6   Land Use/Land Cover        1434 non-null   int64 \n",
    " 7   Demographic                1434 non-null   int64 \n",
    " 8   Socioeconomic              1434 non-null   int64 \n",
    " 9   Social Capital & Identity  1434 non-null   int64 \n",
    " 10  Human Built Capital        1434 non-null   int64 \n",
    " 11  Institutional              1434 non-null   int64 \n",
    " 12  Livelihood activities      1434 non-null   int64 \n",
    " 13  Commodity Prices           1434 non-null   int64 \n",
    " ```"
   ]
  },
  {
   "cell_type": "code",
   "execution_count": 4,
   "metadata": {},
   "outputs": [],
   "source": [
    "code=0\n",
    "\n",
    "type={}\n",
    "\n",
    "# Setup our lists of categories for mapping connections.\n",
    "environmental = Circos_DATA.columns[2:7]\n",
    "social = Circos_DATA.columns[7:14]\n",
    "\n",
    "# Use the same groups for every subplot:\n",
    "groups = [environmental, social]\n",
    "\n",
    "\n",
    "#if code == 1:\n",
    "#\n",
    "#elif code == 2:\n",
    "#    groups = [environmental, social]\n",
    "#else:\n",
    "#    groups = None\n",
    "\n",
    "df, n_papers = create_matrix(Circos_DATA, code=code, groups=groups)\n",
    "\n",
    "type[0] = 'All manuscripts (n={n})'.format(n=n_papers)\n",
    "type[1] = 'Manuscripts investigating social impacts on environmental systems (n={n})'.format(n=n_papers)\n",
    "type[2] = 'Manuscripts investigating environmental impacts on social systems (n={n})'.format(n=n_papers)\n",
    "type[3] = 'Manuscripts investigating coupled systems dynamics (n={n})'.format(n=n_papers)\n",
    "\n"
   ]
  },
  {
   "cell_type": "markdown",
   "metadata": {},
   "source": [
    "### Make the Plot (attempt using Plotly)"
   ]
  },
  {
   "cell_type": "code",
   "execution_count": 5,
   "metadata": {},
   "outputs": [],
   "source": [
    "import chart_studio.plotly as py\n",
    "import plotly.figure_factory as ff\n",
    "import plotly.graph_objs as go\n",
    "from functions import check_data, get_ideogram_ends, map_data, make_ribbon_ends\n",
    "PI = np.pi"
   ]
  },
  {
   "cell_type": "code",
   "execution_count": 6,
   "metadata": {},
   "outputs": [],
   "source": [
    "# Determine the size of every arc in the ideogram, based on total number of manuscripts.\n",
    "matrix = np.array(df, dtype=int)\n",
    "L = check_data(matrix)\n",
    "\n",
    "row_sum = [np.sum(matrix[k,:]) for k in range(L)]\n",
    "\n",
    "#set the gap between two consecutive ideograms\n",
    "gap=2*PI*0.005\n",
    "ideogram_length=2*PI*np.asarray(row_sum)/sum(row_sum)-gap*np.ones(L)\n",
    "\n",
    "# Get the end angular coordinates for each ideogram arc\n",
    "ideo_ends = get_ideogram_ends(ideogram_length, gap)"
   ]
  },
  {
   "cell_type": "code",
   "execution_count": 7,
   "metadata": {},
   "outputs": [],
   "source": [
    "# Labels and colors will be consistent across all figures\n",
    "greens = [\n",
    "    'rgba(237,248,251, 0.75)',\n",
    "    'rgba(204,236,230, 0.75)',\n",
    "    'rgba(153,216,201, 0.75)',\n",
    "    'rgba(102,194,164, 0.75)',\n",
    "    'rgba(65,174,118, 0.75)',\n",
    "    'rgba(35,139,69, 0.75)',\n",
    "    'rgba(0,88,36, 0.75)']\n",
    "\n",
    "blues = [\n",
    "    'rgba(241,238,246, 0.75)',\n",
    "    'rgba(189,201,225, 0.75)',\n",
    "    'rgba(116,169,207, 0.75)',\n",
    "    'rgba(43,140,190, 0.75)',\n",
    "    'rgba(4,90,141, 0.75)']\n",
    "\n",
    "greys = ['rgba(189,189,189, 0.75)']*12\n",
    "\n",
    "# This isn't necessary, since we've made the green and blue color lists the right size.\n",
    "environmental_colors = blues[0:len(list(environmental))]\n",
    "social_colors = greens[0:len(list(social))]\n",
    "\n",
    "ideo_colors= environmental_colors[::-1] + social_colors[::-1]\n",
    "\n",
    "labels = list(df.columns)"
   ]
  },
  {
   "cell_type": "code",
   "execution_count": 8,
   "metadata": {},
   "outputs": [],
   "source": [
    "mapped_data = map_data(matrix, row_sum, ideogram_length)\n",
    "idx_sort=np.argsort(mapped_data, axis=1)\n",
    "ribbon_ends=make_ribbon_ends(mapped_data, ideo_ends,  idx_sort)\n",
    "\n",
    "# Use the correct ribbon colors depending on the type of plot:\n",
    "if code == 1 or code == 2:\n",
    "    ribbon_color=[L*[ideo_colors[k]] for k in range(L)]\n",
    "else:\n",
    "    ribbon_color=[L*[greys[k]] for k in range(L)]\n"
   ]
  },
  {
   "cell_type": "markdown",
   "metadata": {},
   "source": [
    "### Create a Layout for the figure"
   ]
  },
  {
   "cell_type": "code",
   "execution_count": 9,
   "metadata": {},
   "outputs": [],
   "source": [
    "from functions import make_layout, make_ribbon, make_self_rel, invPerm\n",
    "\n",
    "layout=make_layout(type[code], 800)\n"
   ]
  },
  {
   "cell_type": "code",
   "execution_count": 10,
   "metadata": {},
   "outputs": [],
   "source": [
    "# these values are set after a few trials \n",
    "radii_sribb=[0.30, 0.30, 0.30, 0.30, 0.30, 0.30, 0.30, 0.30, 0.30, 0.30, 0.30, 0.30]"
   ]
  },
  {
   "cell_type": "code",
   "execution_count": 11,
   "metadata": {},
   "outputs": [],
   "source": [
    "ribbon_info=[]\n",
    "for k in range(L):\n",
    "    sigma=idx_sort[k]\n",
    "    sigma_inv=invPerm(sigma)\n",
    "    for j in range(k, L):\n",
    "        if matrix[k][j]==0 and matrix[j][k]==0: continue\n",
    "        eta=idx_sort[j]\n",
    "        eta_inv=invPerm(eta)\n",
    "        l=ribbon_ends[k][sigma_inv[j]]\n",
    "\n",
    "        if j==k:\n",
    "            # CHANGE THIS APPEND TO A SIMPLE ADDITION....\n",
    "            #layout['shapes'].append(make_self_rel(l, 'rgb(175,175,175)' ,\n",
    "            #                        ideo_colors[k], radius=radii_sribb[k]))\n",
    "            layout['shapes'] = layout['shapes'] + (make_self_rel(l, 'rgb(175,175,175)' ,\n",
    "                                    ideo_colors[k], radius=radii_sribb[k]),)\n",
    "            z=0.9*np.exp(1j*(l[0]+l[1])/2)\n",
    "            #the text below will be displayed when hovering the mouse over the ribbon\n",
    "            text='There were {:d}'.format(matrix[k][k])+' manuscripts with both {k} and {k} data'.format(k=labels[k])\n",
    "            ribbon_info.append(go.Scatter(x=[z.real],\n",
    "                                       y=[z.imag],\n",
    "                                       mode='markers',\n",
    "                                       marker=dict(size=0.5, color=ideo_colors[k]),\n",
    "                                       text=text,\n",
    "                                       hoverinfo='text'\n",
    "                                       )\n",
    "                              )\n",
    "        else:\n",
    "            r=ribbon_ends[j][eta_inv[k]]\n",
    "            zi=0.9*np.exp(1j*(l[0]+l[1])/2)\n",
    "            zf=0.9*np.exp(1j*(r[0]+r[1])/2)\n",
    "            #texti and textf are the strings that will be displayed when hovering the mouse \n",
    "            #over the two ribbon ends\n",
    "            if code == 1:\n",
    "                this_color = ribbon_color[j][k]\n",
    "                texti='There were {:d}'.format(matrix[k][j])+' manuscripts with both {j} and {k} data'.format(\n",
    "                    k=labels[k], j=labels[j])\n",
    "                textf='There were {:d}'.format(matrix[k][j])+' manuscripts with both {j} and {k} data'.format(\n",
    "                    k=labels[k], j=labels[j])\n",
    "            elif code == 2:\n",
    "                this_color = ribbon_color[k][j]\n",
    "                texti='There were {:d}'.format(matrix[k][j])+' manuscripts with both {k} and {j} data'.format(\n",
    "                    k=labels[k], j=labels[j])\n",
    "                textf='There were {:d}'.format(matrix[k][j])+' manuscripts with both {k} and {j} data'.format(\n",
    "                    k=labels[k], j=labels[j])\n",
    "            \n",
    "            else:\n",
    "                # Tom likes the greens as default.\n",
    "                texti='There were {:d}'.format(matrix[k][j])+' manuscripts with both {j} and {k} data'.format(\n",
    "                    k=labels[k], j=labels[j])\n",
    "                textf='There were {:d}'.format(matrix[k][j])+' manuscripts with both {j} and {k} data'.format(\n",
    "                    k=labels[k], j=labels[j])\n",
    "            \n",
    "                this_color = ribbon_color[k][j]\n",
    "            ribbon_info.append(go.Scatter(x=[zi.real],\n",
    "                                       y=[zi.imag],\n",
    "                                       mode='markers',\n",
    "                                       marker=dict(size=0.5, color=this_color),\n",
    "                                       text=texti,\n",
    "                                       hoverinfo='text'\n",
    "                                       )\n",
    "                              ),\n",
    "            ribbon_info.append(go.Scatter(x=[zf.real],\n",
    "                                       y=[zf.imag],\n",
    "                                       mode='markers',\n",
    "                                       marker=dict(size=0.5, color=this_color),\n",
    "                                       text=textf,\n",
    "                                       hoverinfo='text'\n",
    "                                       )\n",
    "                              )\n",
    "            r=(r[1], r[0])#IMPORTANT!!!  Reverse these arc ends because otherwise you get\n",
    "                          # a twisted ribbon\n",
    "            #append the ribbon shape\n",
    "#           layout['shapes'] = layout['shapes'] + (make_ribbon(l, r, 'rgb(175,175,175)' , ribbon_color[k][j]),)\n",
    "            layout['shapes'] = layout['shapes'] + (make_ribbon(l, r, 'rgb(175,175,175)' , this_color),)\n",
    "\n",
    "\n"
   ]
  },
  {
   "cell_type": "code",
   "execution_count": 12,
   "metadata": {},
   "outputs": [
    {
     "name": "stderr",
     "output_type": "stream",
     "text": [
      "/Users/kellycaylor/opt/anaconda3/envs/ses_meta_analysis/lib/python3.6/site-packages/plotly/graph_objs/_deprecations.py:40: DeprecationWarning:\n",
      "\n",
      "plotly.graph_objs.Data is deprecated.\n",
      "Please replace it with a list or tuple of instances of the following types\n",
      "  - plotly.graph_objs.Scatter\n",
      "  - plotly.graph_objs.Bar\n",
      "  - plotly.graph_objs.Area\n",
      "  - plotly.graph_objs.Histogram\n",
      "  - etc.\n",
      "\n",
      "\n"
     ]
    },
    {
     "data": {
      "text/html": [
       "\n",
       "        <iframe\n",
       "            width=\"800px\"\n",
       "            height=\"800px\"\n",
       "            src=\"https://plot.ly/~kcaylor/247.embed\"\n",
       "            frameborder=\"0\"\n",
       "            allowfullscreen\n",
       "        ></iframe>\n",
       "        "
      ],
      "text/plain": [
       "<IPython.lib.display.IFrame at 0x11bd9a3c8>"
      ]
     },
     "execution_count": 12,
     "metadata": {},
     "output_type": "execute_result"
    }
   ],
   "source": [
    "from functions import make_ideogram_arc, make_ideo_shape\n",
    "ideograms=[]\n",
    "ideo_labels=[]\n",
    "for k in range(len(ideo_ends)):\n",
    "    z= make_ideogram_arc(1.1, ideo_ends[k])\n",
    "    zi=make_ideogram_arc(1.0, ideo_ends[k])\n",
    "    z_avg = make_ideogram_arc(1.3, [np.mean(ideo_ends[k]), np.mean(ideo_ends[k])])\n",
    "    ideo_labels.append(dict(\n",
    "            x=z_avg.real[0],\n",
    "            y=z_avg.imag[0],\n",
    "            xref=\"x\",\n",
    "            yref=\"y\",\n",
    "            text=labels[k],\n",
    "            showarrow=False,\n",
    "            font=dict(\n",
    "                family=\"arial\",\n",
    "                size=18\n",
    "            )\n",
    "        ))\n",
    "    m=len(z)\n",
    "    n=len(zi)\n",
    "    ideograms.append(go.Scatter(x=z.real,\n",
    "                             y=z.imag,\n",
    "                             mode='lines',\n",
    "                             name=labels[k],\n",
    "                             line=dict(color=ideo_colors[k], shape='spline', width=0.25),\n",
    "                             text=labels[k]+'<br>'+'{:d}'.format(row_sum[k]),\n",
    "                             hoverinfo='text',\n",
    "                             )\n",
    "                     )\n",
    "\n",
    "\n",
    "    path='M '\n",
    "    for s in range(m):\n",
    "        path+=str(z.real[s])+', '+str(z.imag[s])+' L '\n",
    "\n",
    "    Zi=np.array(zi.tolist()[::-1])\n",
    "\n",
    "    for s in range(m):\n",
    "        path+=str(Zi.real[s])+', '+str(Zi.imag[s])+' L '\n",
    "    path+=str(z.real[0])+' ,'+str(z.imag[0])\n",
    "\n",
    "    layout['shapes'] = layout['shapes'] + (make_ideo_shape(path,'rgb(150,150,150)' , ideo_colors[k]),)\n",
    "\n",
    "data = go.Data(ideograms+ribbon_info)\n",
    "fig = go.Figure(data=data, layout=layout)\n",
    "\n",
    "fig.update_layout(\n",
    "    template=\"plotly_white\",\n",
    "    annotations=ideo_labels,\n",
    "    width=800,\n",
    "    height=800\n",
    ")\n",
    "\n",
    "#import plotly.offline as off\n",
    "#off.init_notebook_mode()\n",
    "\n",
    "py.iplot(fig, filename='chord-diagram-ses')\n"
   ]
  },
  {
   "cell_type": "code",
   "execution_count": 13,
   "metadata": {},
   "outputs": [
    {
     "name": "stdout",
     "output_type": "stream",
     "text": [
      "ideogram Land Use/Land Cover has color rgba(4,90,141, 0.75)\n",
      "ideogram Ecology has color rgba(43,140,190, 0.75)\n",
      "ideogram Geomorphology has color rgba(116,169,207, 0.75)\n",
      "ideogram Weather/Climate has color rgba(189,201,225, 0.75)\n",
      "ideogram Hydrology has color rgba(241,238,246, 0.75)\n",
      "ideogram Livelihood activities has color rgba(0,88,36, 0.75)\n",
      "ideogram Demographic has color rgba(35,139,69, 0.75)\n",
      "ideogram Socioeconomic has color rgba(65,174,118, 0.75)\n",
      "ideogram Institutional has color rgba(102,194,164, 0.75)\n",
      "ideogram Human Built Capital has color rgba(153,216,201, 0.75)\n",
      "ideogram Social Capital & Identity has color rgba(204,236,230, 0.75)\n",
      "ideogram Commodity Prices has color rgba(237,248,251, 0.75)\n",
      "['rgba(4,90,141, 0.75)', 'rgba(43,140,190, 0.75)', 'rgba(116,169,207, 0.75)', 'rgba(189,201,225, 0.75)', 'rgba(241,238,246, 0.75)', 'rgba(0,88,36, 0.75)', 'rgba(35,139,69, 0.75)', 'rgba(65,174,118, 0.75)', 'rgba(102,194,164, 0.75)', 'rgba(153,216,201, 0.75)', 'rgba(204,236,230, 0.75)', 'rgba(237,248,251, 0.75)']\n"
     ]
    }
   ],
   "source": [
    "for k in range(L):\n",
    "    print('ideogram {k} has color {c}'.format(k=labels[k], c=ideo_colors[k]))\n",
    "\n",
    "print(ideo_colors)"
   ]
  },
  {
   "cell_type": "code",
   "execution_count": 14,
   "metadata": {},
   "outputs": [],
   "source": [
    "#from plotly.offline import init_notebook_mode\n",
    "#import plotly.graph_objs as go\n",
    "\n",
    "#init_notebook_mode(connected=True)\n",
    "\n",
    "#data = go.Data(ribbon_info+ideograms)\n",
    "#fig = go.Figure(data=data, layout=layout)\n",
    "\n",
    "#py.plot(fig, filename='chord-diagram-ses', auto_open=True)"
   ]
  }
 ],
 "metadata": {
  "kernelspec": {
   "display_name": "Python 3",
   "language": "python",
   "name": "python3"
  },
  "language_info": {
   "codemirror_mode": {
    "name": "ipython",
    "version": 3
   },
   "file_extension": ".py",
   "mimetype": "text/x-python",
   "name": "python",
   "nbconvert_exporter": "python",
   "pygments_lexer": "ipython3",
   "version": "3.6.7"
  }
 },
 "nbformat": 4,
 "nbformat_minor": 4
}
